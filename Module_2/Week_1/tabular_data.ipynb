{
 "cells": [
  {
   "cell_type": "code",
   "execution_count": 1,
   "metadata": {},
   "outputs": [
    {
     "name": "stdout",
     "output_type": "stream",
     "text": [
      "        TV  Radio  Newspaper  Sales\n",
      "0    230.1   37.8       69.2   22.1\n",
      "1     44.5   39.3       45.1   10.4\n",
      "2     17.2   45.9       69.3   12.0\n",
      "3    151.5   41.3       58.5   16.5\n",
      "4    180.8   10.8       58.4   17.9\n",
      "..     ...    ...        ...    ...\n",
      "195   38.2    3.7       13.8    7.6\n",
      "196   94.2    4.9        8.1   14.0\n",
      "197  177.0    9.3        6.4   14.8\n",
      "198  283.6   42.0       66.2   25.5\n",
      "199  232.1    8.6        8.7   18.4\n",
      "\n",
      "[200 rows x 4 columns]\n"
     ]
    }
   ],
   "source": [
    "import pandas as pd\n",
    "data = pd.read_csv('advertising.csv')\n",
    "data.to_numpy()\n",
    "print(data)\n"
   ]
  },
  {
   "cell_type": "markdown",
   "metadata": {},
   "source": [
    "Q15: Get the maximum value and its corresponding index in the Sales column"
   ]
  },
  {
   "cell_type": "code",
   "execution_count": 2,
   "metadata": {},
   "outputs": [
    {
     "name": "stdout",
     "output_type": "stream",
     "text": [
      "Max: 27.0 - Index: 175\n"
     ]
    }
   ],
   "source": [
    "max_value = data['Sales'].max()\n",
    "max_index = data['Sales'].idxmax()\n",
    "print(f'Max: {max_value} - Index: {max_index}')"
   ]
  },
  {
   "cell_type": "markdown",
   "metadata": {},
   "source": [
    "Q16: Calculate the average value of the \"TV\" column"
   ]
  },
  {
   "cell_type": "code",
   "execution_count": 3,
   "metadata": {},
   "outputs": [
    {
     "name": "stdout",
     "output_type": "stream",
     "text": [
      "147.0425\n"
     ]
    }
   ],
   "source": [
    "average_tv = data['TV'].mean()\n",
    "print(average_tv)"
   ]
  },
  {
   "cell_type": "markdown",
   "metadata": {},
   "source": [
    "Q17: Number of records with values in the Sales column greater than or equal to 20"
   ]
  },
  {
   "cell_type": "code",
   "execution_count": 4,
   "metadata": {},
   "outputs": [
    {
     "name": "stdout",
     "output_type": "stream",
     "text": [
      "40\n"
     ]
    }
   ],
   "source": [
    "ans = data[data['Sales']>=20]\n",
    "print(len(ans))"
   ]
  },
  {
   "cell_type": "markdown",
   "metadata": {},
   "source": [
    "Q18: The average value of the 'Radio' column where the corresponding value in the 'Sales' column is greater than or equal to 15"
   ]
  },
  {
   "cell_type": "code",
   "execution_count": 5,
   "metadata": {},
   "outputs": [
    {
     "name": "stdout",
     "output_type": "stream",
     "text": [
      "26.22293577981651\n"
     ]
    }
   ],
   "source": [
    "average_radio = data.loc[data['Sales']>=15, 'Radio'].mean()\n",
    "print(average_radio)"
   ]
  },
  {
   "cell_type": "markdown",
   "metadata": {},
   "source": [
    "Q19: Calculate the sum of values in the 'Sales' column where each value is greater than the average value of the 'Newspaper' column"
   ]
  },
  {
   "cell_type": "code",
   "execution_count": 6,
   "metadata": {},
   "outputs": [
    {
     "name": "stdout",
     "output_type": "stream",
     "text": [
      "TV           13330.0\n",
      "Radio         2558.7\n",
      "Newspaper     4452.3\n",
      "Sales         1405.1\n",
      "dtype: float64\n"
     ]
    }
   ],
   "source": [
    "average_newspaper = data['Newspaper'].mean()\n",
    "ans = data.loc[data['Newspaper']>average_newspaper].sum()\n",
    "print(ans)"
   ]
  },
  {
   "cell_type": "markdown",
   "metadata": {},
   "source": [
    "Q20: Let A denote the average value of the Sales column. Create a new array 'scores' containing values Good, Average, and Bad such that: if the current value > A => the value in the new array is Good, if < A then it will be Bad, and if equal to A it will be Average. Then print the result of scores[7:10]"
   ]
  },
  {
   "cell_type": "code",
   "execution_count": 8,
   "metadata": {},
   "outputs": [
    {
     "name": "stdout",
     "output_type": "stream",
     "text": [
      "['Bad', 'Bad', 'Good']\n"
     ]
    }
   ],
   "source": [
    "A = data['Sales'].mean()\n",
    "scores = []\n",
    "for val in data['Sales']:\n",
    "    if val > A:\n",
    "        scores.append('Good')\n",
    "    elif val < A:\n",
    "        scores.append('Bad')\n",
    "    else:\n",
    "        scores.append('Average')\n",
    "print(scores[7:10])"
   ]
  },
  {
   "cell_type": "markdown",
   "metadata": {},
   "source": [
    "Q21: Let A denote the value in the Sales column closest to its average value A. Create a new array 'scores' containing values Good, Average, and Bad such that: if the current value > A => the value in the new array is Good, if < A then it will be Bad, and if equal to A it will be Average. Then print the result of scores[7:10]"
   ]
  },
  {
   "cell_type": "code",
   "execution_count": 14,
   "metadata": {},
   "outputs": [
    {
     "name": "stdout",
     "output_type": "stream",
     "text": [
      "['Bad', 'Bad', 'Good']\n"
     ]
    }
   ],
   "source": [
    "# SOLUTION 1\n",
    "sales_data = data['Sales']\n",
    "sales_mean = sales_data.mean()\n",
    "sub_mean = sales_data - sales_mean\n",
    "\n",
    "\n",
    "A_nearest = sales_data.iloc[(sales_data - sales_mean).abs().argsort()[:1]].values[0]\n",
    "\n",
    "scores = []\n",
    "for val in data['Sales']:\n",
    "    if val > A_nearest:\n",
    "        scores.append('Good')\n",
    "    elif val < A_nearest:\n",
    "        scores.append('Bad')\n",
    "    else:\n",
    "        scores.append('Average')\n",
    "print(scores[7:10])"
   ]
  },
  {
   "cell_type": "code",
   "execution_count": 19,
   "metadata": {},
   "outputs": [
    {
     "name": "stdout",
     "output_type": "stream",
     "text": [
      "['Bad' 'Bad' 'Good']\n"
     ]
    }
   ],
   "source": [
    "# SOLUTION 2\n",
    "import numpy as np\n",
    "sales_data = data['Sales']\n",
    "sales_mean = sales_data.mean()\n",
    "sub_mean = sales_data - sales_mean\n",
    "sub_abs = abs(sales_data - sales_mean)\n",
    "average_idx = np.argmin(sub_abs)\n",
    "sales_average = sales_data[average_idx]\n",
    "score_sales = np.where(\n",
    "    sales_data < sales_mean, \"Bad\",\n",
    "    np.where(sales_data > sales_average, \"Good\", \"Average\")\n",
    ")\n",
    "print(score_sales[7:10])"
   ]
  }
 ],
 "metadata": {
  "kernelspec": {
   "display_name": "Python (myenv)",
   "language": "python",
   "name": "myenv"
  },
  "language_info": {
   "codemirror_mode": {
    "name": "ipython",
    "version": 3
   },
   "file_extension": ".py",
   "mimetype": "text/x-python",
   "name": "python",
   "nbconvert_exporter": "python",
   "pygments_lexer": "ipython3",
   "version": "3.12.2"
  }
 },
 "nbformat": 4,
 "nbformat_minor": 2
}
