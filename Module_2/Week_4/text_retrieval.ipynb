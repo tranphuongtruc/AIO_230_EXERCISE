{
 "cells": [
  {
   "cell_type": "markdown",
   "metadata": {},
   "source": [
    "# Question 10"
   ]
  },
  {
   "cell_type": "code",
   "execution_count": 26,
   "metadata": {},
   "outputs": [
    {
     "name": "stdout",
     "output_type": "stream",
     "text": [
      "0.31126580760710637\n"
     ]
    }
   ],
   "source": [
    "import pandas as pd\n",
    "import numpy as np\n",
    "from sklearn.feature_extraction.text import TfidfVectorizer\n",
    "\n",
    "vi_data_df = pd.read_csv(\"./vi_text_retrieval.csv\")\n",
    "context = vi_data_df['text']\n",
    "context = [doc.lower() for doc in context]\n",
    "\n",
    "tfidf_vectorizer = TfidfVectorizer()\n",
    "\n",
    "# Transform the text data into TF-IDF features\n",
    "context_embedded = tfidf_vectorizer.fit_transform(context)\n",
    "\n",
    "# Access the TF-IDF feature vector for the 8th document (index 7)\n",
    "print(context_embedded.toarray()[7][0])"
   ]
  },
  {
   "cell_type": "markdown",
   "metadata": {},
   "source": [
    "# Question 11 - Compute cosine similarity"
   ]
  },
  {
   "cell_type": "code",
   "execution_count": 27,
   "metadata": {},
   "outputs": [
    {
     "name": "stdout",
     "output_type": "stream",
     "text": [
      "[{'id': 0, 'cosine_score': 0.6279910475266972}, {'id': 97, 'cosine_score': 0.21145795862251632}, {'id': 136, 'cosine_score': 0.1771475314979447}, {'id': 384, 'cosine_score': 0.15971218395887335}, {'id': 118, 'cosine_score': 0.1578067474650028}]\n",
      "0.6279910475266972\n"
     ]
    }
   ],
   "source": [
    "from sklearn.metrics.pairwise import cosine_similarity\n",
    "\n",
    "def tfidf_search(question, tfidf_vectorizer, top_d=5):\n",
    "    query_embedded = tfidf_vectorizer.transform([question.lower()])\n",
    "    \n",
    "    # Compute cosine similarity between the query and the document embeddings\n",
    "    cosine_scores = cosine_similarity(query_embedded, context_embedded).reshape((-1,))\n",
    "    \n",
    "    # Get top k cosine scores and their indices\n",
    "    results = []\n",
    "    for idx in cosine_scores.argsort()[-top_d:][::-1]:\n",
    "        doc_score = {\n",
    "            'id': idx,\n",
    "            'cosine_score': cosine_scores[idx]\n",
    "        }\n",
    "        results.append(doc_score)\n",
    "    \n",
    "    return results\n",
    "\n",
    "question = vi_data_df.iloc[0]['question']\n",
    "results = tfidf_search(question, tfidf_vectorizer, top_d=5)\n",
    "print(results)\n",
    "print(results[0]['cosine_score'])\n"
   ]
  },
  {
   "cell_type": "markdown",
   "metadata": {},
   "source": [
    "# Question 12 - Compute correlation"
   ]
  },
  {
   "cell_type": "code",
   "execution_count": 28,
   "metadata": {},
   "outputs": [
    {
     "name": "stdout",
     "output_type": "stream",
     "text": [
      "0.20734246471973702\n"
     ]
    }
   ],
   "source": [
    "def corr_search(question, tfidf_vectorizer, top_d=5):\n",
    "    query_embedded = tfidf_vectorizer.transform([question.lower()])\n",
    "    \n",
    "    # Compute correlation\n",
    "    corr_scores = np.corrcoef(query_embedded.toarray()[0], context_embedded.toarray())\n",
    "\n",
    "    corr_scores = corr_scores[0][1:] \n",
    "    \n",
    "    # Get top k correlation scores and their indices\n",
    "    results = []\n",
    "    for idx in corr_scores.argsort()[-top_d:][::-1]:\n",
    "        doc = {\n",
    "            'id': idx,  \n",
    "            'corr_score': corr_scores[idx]\n",
    "        }\n",
    "        results.append(doc)\n",
    "    \n",
    "    return results\n",
    "\n",
    "question = vi_data_df.iloc[0]['question']\n",
    "results = corr_search(question, tfidf_vectorizer, top_d=5)\n",
    "print(results[1]['corr_score'])\n"
   ]
  }
 ],
 "metadata": {
  "kernelspec": {
   "display_name": "Python 3",
   "language": "python",
   "name": "python3"
  },
  "language_info": {
   "codemirror_mode": {
    "name": "ipython",
    "version": 3
   },
   "file_extension": ".py",
   "mimetype": "text/x-python",
   "name": "python",
   "nbconvert_exporter": "python",
   "pygments_lexer": "ipython3",
   "version": "3.12.2"
  }
 },
 "nbformat": 4,
 "nbformat_minor": 2
}
